{
 "cells": [
  {
   "cell_type": "code",
   "execution_count": null,
   "id": "127892e0",
   "metadata": {},
   "outputs": [],
   "source": [
    " # Dependencies and Setup\n",
    "import matplotlib.pyplot as plt\n",
    "import pandas as pd\n",
    "import numpy as np\n",
    "import requests\n",
    "import time\n",
    "from scipy.stats import linregress\n",
    "\n",
    "# Import API key\n",
    "from api_keys import weather_api_key\n",
    "\n",
    "# Incorporated citipy to determine city based on latitude and longitude\n",
    "from citipy import citipy\n",
    "\n",
    "# Output File (CSV)\n",
    "output_data_file = \"output_data/cities.csv\"\n",
    "\n",
    "# Range of latitudes and longitudes\n",
    "lat_range = (-90, 90)\n",
    "lng_range = (-180, 180)"
   ]
  },
  {
   "cell_type": "code",
   "execution_count": null,
   "id": "3045d56b",
   "metadata": {},
   "outputs": [],
   "source": [
    " # List for holding lat_lngs and cities\n",
    "lat_lngs = []\n",
    "cities = []\n",
    "\n",
    "# Create a set of random lat and lng combinations\n",
    "lats = np.random.uniform(lat_range[0], lat_range[1], size=1500)\n",
    "lngs = np.random.uniform(lng_range[0], lng_range[1], size=1500)\n",
    "lat_lngs = zip(lats, lngs)\n",
    "\n",
    "# Identify nearest city for each lat, lng combination\n",
    "for lat_lng in lat_lngs:\n",
    "    city = citipy.nearest_city(lat_lng[0], lat_lng[1]).city_name\n",
    "    \n",
    "    # If the city is unique, then add it to a our cities list\n",
    "    if city not in cities:\n",
    "        cities.append(city)\n",
    "\n",
    "# Print the city count to confirm sufficient count\n",
    "len(cities)"
   ]
  },
  {
   "cell_type": "code",
   "execution_count": null,
   "id": "3dfc7afd",
   "metadata": {},
   "outputs": [],
   "source": [
    "\n",
    "num_cities = len(cities)\n",
    "sets = num_cities/58\n",
    "#total_sets = sets + (1-(sets-round(sets)))\n",
    "if (sets-round(sets)) < 0:\n",
    "    total_sets = int(sets + (-(sets-round(sets))))\n",
    "else: \n",
    "    total_sets = int(sets + (1-(sets-round(sets))))\n",
    "print(f\"There will be {total_sets} calls based on {num_cities} cities.\")"
   ]
  },
  {
   "cell_type": "code",
   "execution_count": null,
   "id": "ec4a2706",
   "metadata": {},
   "outputs": [],
   "source": [
    "print(cities)"
   ]
  },
  {
   "cell_type": "code",
   "execution_count": null,
   "id": "97aa403d",
   "metadata": {},
   "outputs": [],
   "source": [
    "# Save config information\n",
    "url = \"http://api.openweathermap.org/data/2.5/weather?\"\n",
    "units = \"metric\"\n",
    "city = \"hithadhoo\"\n",
    "\n",
    "# Build query URL\n",
    "#query_url = url + \"appid=\" + weather_api_key + '&units=' + {units} + \"&q=\" #+ city\n",
    "query_url = f\"{url}appid={weather_api_key}&units={units}&q=\"\n",
    "\n",
    "# Get weather data\n",
    "weather_response = requests.get(query_url)\n",
    "weather_json = weather_response.json()\n",
    "\n",
    "# Get the temperature from the response\n",
    "if weather_json['message'] == 'city not found':\n",
    "    print('city not found')\n",
    "else:\n",
    "    print(f\"The weather API responded with: {weather_json}.\")"
   ]
  },
  {
   "cell_type": "code",
   "execution_count": null,
   "id": "5d300d77",
   "metadata": {},
   "outputs": [],
   "source": [
    "weather_api_key"
   ]
  },
  {
   "cell_type": "code",
   "execution_count": null,
   "id": "39048e86",
   "metadata": {},
   "outputs": [],
   "source": [
    "#Processing Record 1 of Set 1 | butaritari\n",
    "print(cities[0])"
   ]
  },
  {
   "cell_type": "code",
   "execution_count": null,
   "id": "9020f425",
   "metadata": {},
   "outputs": [],
   "source": [
    "y=0\n",
    "fail_count = 0\n",
    "success_count = 0\n",
    "citycount = 0\n",
    "stopcount = len(cities)-1\n",
    "response_json = []\n",
    "request_check = []\n",
    "city = []\n",
    "lat = []\n",
    "temp = []\n",
    "temp_max = []\n",
    "temp_min = []\n",
    "lng = []\n",
    "humidity = []\n",
    "cloudiness = []\n",
    "wind_speed = []\n",
    "country = []\n",
    "date = []\n",
    "\n",
    "#post_response = []\n",
    "# Make a request for each of the indices\n",
    "print(f\"Beginning Data Retrieval\\n-----------------------------\")\n",
    "total_start = time.time()\n",
    "for x in range(total_sets):\n",
    "    (print(x))\n",
    "    (print(total_sets))\n",
    "    #start = time.time()\n",
    "    #while citycount<= (stopcount):\n",
    "    start = time.time()\n",
    "        #print(start)\n",
    "    for y in range (citycount,(((x+1)*58))):\n",
    "        #time.sleep(1)\n",
    "        print (time.time())\n",
    "        (print(y))\n",
    "        (print(citycount))\n",
    "        (print(stopcount))\n",
    "        print(f\"Processing Record {(y-((x*58)))+1} of set {x+1} | {cities[y]}\")\n",
    "        # Get one of the posts\n",
    "        post_response = requests.get(query_url + str(cities[y]))\n",
    "        request_check = post_response.json()\n",
    "        if request_check['cod'] == '404':\n",
    "            print('Invalid City. Skipping...')\n",
    "            fail_count = fail_count+1\n",
    "        else:\n",
    "            #Save post's JSON\n",
    "            city.append(request_check['name'])\n",
    "            lat.append(request_check['coord']['lat'])\n",
    "            lng.append(request_check['coord']['lon'])\n",
    "            temp.append(request_check['main']['temp'])\n",
    "            temp_max.append(request_check['main']['temp_max'])\n",
    "            temp_min.append(request_check['main']['temp_min'])\n",
    "            humidity.append(request_check['main']['humidity'])\n",
    "            cloudiness.append(request_check['clouds']['all'])\n",
    "            wind_speed.append(request_check['wind']['speed'])\n",
    "            country.append(request_check['sys']['country'])\n",
    "            date.append(request_check['dt'])\n",
    "            #response_json.append(post_response.json())\n",
    "            success_count = success_count+1\n",
    "        end = time.time()\n",
    "        citycount = citycount+1\n",
    "        if (citycount) > stopcount:\n",
    "            break\n",
    "        #\n",
    "        # print(f\"end time is {end}). Star time is {start}. The difference is {end-start}\")\n",
    "    \n",
    "    timedifference = end - start\n",
    "    td60 = 61 - timedifference\n",
    "    x=x+1\n",
    "    if x < total_sets:\n",
    "        print(f\"Start time is {start}. End time is {end}. Time Difference is {timedifference}. Sleep time is {td60}\")\n",
    "        (print(y))\n",
    "        (print(citycount))\n",
    "        (print(stopcount))\n",
    "        (print(x))\n",
    "        time.sleep(td60)\n",
    "        \n",
    "total_end = time.time()\n",
    "total_elapsed = (total_end - total_start)/60\n",
    "print(f\"----------------------------- \\nData Retrieval Complete \\n-----------------------------\\nData for {success_count} cities was loaded successfully, and there were {fail_count} cities not found. The process took approximately {round(total_elapsed,2)} minutes\")"
   ]
  },
  {
   "cell_type": "code",
   "execution_count": null,
   "id": "62a924d7",
   "metadata": {},
   "outputs": [],
   "source": [
    "print(post_response.json())"
   ]
  },
  {
   "cell_type": "code",
   "execution_count": null,
   "id": "a1d5ad64",
   "metadata": {
    "scrolled": true
   },
   "outputs": [],
   "source": [
    "response_json"
   ]
  },
  {
   "cell_type": "code",
   "execution_count": null,
   "id": "e40d41c3",
   "metadata": {},
   "outputs": [],
   "source": [
    "weather_data_dict = {\n",
    "'City':city,\n",
    "'Lat':lat,\n",
    "'Lng':lng,\n",
    "'Temp':temp,\n",
    "'Max Temp':temp_max,\n",
    "'Min Temp':temp_min,\n",
    "'Humidity':humidity,\n",
    "'Cloudiness':cloudiness,\n",
    "'Wind Speed':wind_speed,\n",
    "'Country':country,\n",
    "'Date':date}"
   ]
  },
  {
   "cell_type": "code",
   "execution_count": null,
   "id": "19bebbf8",
   "metadata": {},
   "outputs": [],
   "source": [
    "weather_data = pd.DataFrame(weather_data_dict)"
   ]
  },
  {
   "cell_type": "code",
   "execution_count": null,
   "id": "d2f3810e",
   "metadata": {},
   "outputs": [],
   "source": [
    "weather_data.head()"
   ]
  },
  {
   "cell_type": "code",
   "execution_count": null,
   "id": "9e5b1fbd",
   "metadata": {},
   "outputs": [],
   "source": [
    "temp_conversion = 0"
   ]
  },
  {
   "cell_type": "code",
   "execution_count": null,
   "id": "04e19351",
   "metadata": {},
   "outputs": [],
   "source": [
    "if temp_conversion == 0:\n",
    "    weather_data['Temp'] = round((weather_data['Temp'] * (9/5)) + 32,0)\n",
    "    weather_data['Max Temp'] = round((weather_data['Max Temp'] * (9/5)) + 32,0)\n",
    "    weather_data['Min Temp'] = round((weather_data['Min Temp'] * (9/5)) + 32,0)\n",
    "    temp_conversion = temp_conversion+1"
   ]
  },
  {
   "cell_type": "code",
   "execution_count": null,
   "id": "93480627",
   "metadata": {},
   "outputs": [],
   "source": [
    "weather_data.head()"
   ]
  },
  {
   "cell_type": "code",
   "execution_count": null,
   "id": "bd6194e5",
   "metadata": {},
   "outputs": [],
   "source": [
    "humidity_outliers = weather_data[weather_data['Humidity'] > 100].copy()\n",
    "humidity_outliers"
   ]
  },
  {
   "cell_type": "code",
   "execution_count": null,
   "id": "2c67f996",
   "metadata": {},
   "outputs": [],
   "source": [
    "if len(humidity_outliers) > 0:\n",
    "    weather_data_ex_hum_ol = weather_data[~weather_data['City'].isin(humidity_outliers['City'])].copy()\n",
    "    weather_data = weather_data_ex_hum_ol.copy()"
   ]
  },
  {
   "cell_type": "code",
   "execution_count": null,
   "id": "9f74682f",
   "metadata": {},
   "outputs": [],
   "source": [
    "weather_data"
   ]
  },
  {
   "cell_type": "code",
   "execution_count": null,
   "id": "2e6416c9",
   "metadata": {},
   "outputs": [],
   "source": [
    "weather_data.to_csv(output_data_file, index=False)"
   ]
  },
  {
   "cell_type": "code",
   "execution_count": null,
   "id": "1175f356",
   "metadata": {},
   "outputs": [],
   "source": [
    "lat_scatter = weather_data.iloc[:,1]\n",
    "temp_scatter = weather_data.iloc[:,3]\n",
    "hum_scatter = weather_data.iloc[:,6]\n",
    "cloud_scatter = weather_data.iloc[:,7]\n",
    "wind_speed_scatter = weather_data.iloc[:,8]"
   ]
  },
  {
   "cell_type": "code",
   "execution_count": null,
   "id": "afc66d52",
   "metadata": {},
   "outputs": [],
   "source": [
    "plt.scatter(lat_scatter,temp_scatter)\n",
    "plt.xlabel('Latitude')\n",
    "plt.ylabel('Temperature')\n",
    "plt.title('City Latitude vs Max Temperature')\n",
    "plt.show()"
   ]
  },
  {
   "cell_type": "code",
   "execution_count": null,
   "id": "a4fad4b7",
   "metadata": {},
   "outputs": [],
   "source": [
    "plt.scatter(lat_scatter,hum_scatter)\n",
    "plt.xlabel('Latitude')\n",
    "plt.ylabel('Humidity')\n",
    "plt.title('City Latitude vs Humidity')\n",
    "plt.show()"
   ]
  },
  {
   "cell_type": "code",
   "execution_count": null,
   "id": "6f955cee",
   "metadata": {},
   "outputs": [],
   "source": [
    "plt.scatter(lat_scatter,cloud_scatter)\n",
    "plt.xlabel('Latitude')\n",
    "plt.ylabel('Cloudiness')\n",
    "plt.title('City Latitude vs Cloudiness')\n",
    "plt.show()"
   ]
  },
  {
   "cell_type": "code",
   "execution_count": null,
   "id": "ba7a26ea",
   "metadata": {},
   "outputs": [],
   "source": [
    "plt.scatter(lat_scatter,wind_speed_scatter)\n",
    "plt.xlabel('Latitude')\n",
    "plt.ylabel('Wind Speed')\n",
    "plt.title('City Latitude vs Wind Speed')\n",
    "plt.show()"
   ]
  },
  {
   "cell_type": "code",
   "execution_count": null,
   "id": "ce603875",
   "metadata": {},
   "outputs": [],
   "source": [
    "weather_data_north = weather_data[weather_data['Lat'] >= 0].copy()"
   ]
  },
  {
   "cell_type": "code",
   "execution_count": null,
   "id": "3577141d",
   "metadata": {},
   "outputs": [],
   "source": [
    "weather_data_south = weather_data[weather_data['Lat'] < 0].copy()"
   ]
  },
  {
   "cell_type": "code",
   "execution_count": null,
   "id": "f5c567cc",
   "metadata": {},
   "outputs": [],
   "source": [
    "weather_data_south"
   ]
  },
  {
   "cell_type": "code",
   "execution_count": null,
   "id": "ae7338bf",
   "metadata": {},
   "outputs": [],
   "source": [
    "north_lat_scatter = weather_data_north.iloc[:,1]\n",
    "north_temp_scatter = weather_data_north.iloc[:,3]\n",
    "north_hum_scatter = weather_data_north.iloc[:,6]\n",
    "north_cloud_scatter = weather_data_north.iloc[:,7]\n",
    "north_wind_speed_scatter = weather_data_north.iloc[:,8]\n",
    "south_lat_scatter = weather_data_south.iloc[:,1]\n",
    "south_temp_scatter = weather_data_south.iloc[:,3]\n",
    "south_hum_scatter = weather_data_south.iloc[:,6]\n",
    "south_cloud_scatter = weather_data_south.iloc[:,7]\n",
    "south_wind_speed_scatter = weather_data_south.iloc[:,8]"
   ]
  },
  {
   "cell_type": "code",
   "execution_count": null,
   "id": "b5f88575",
   "metadata": {},
   "outputs": [],
   "source": [
    "(slope, intercept, rvalue, pvalue, stderr) = linregress(north_lat_scatter,north_temp_scatter)\n",
    "regress_values = north_lat_scatter * slope + intercept\n",
    "line_eq = \"y = \" + str(round(slope,2)) + \"x + \" + str(round(intercept,2))\n",
    "plt.scatter(north_lat_scatter,north_temp_scatter)\n",
    "plt.plot(north_lat_scatter,regress_values,\"r-\")\n",
    "plt.xlabel('Latitude')\n",
    "plt.ylabel('Temperature')\n",
    "plt.title('Northern Hemisphere - Max Temp vs. Latitude Linear Regression')\n",
    "plt.show()\n",
    "print(f'The r-value is {rvalue}')"
   ]
  },
  {
   "cell_type": "code",
   "execution_count": null,
   "id": "fbfb3940",
   "metadata": {},
   "outputs": [],
   "source": [
    "(slope, intercept, rvalue, pvalue, stderr) = linregress(south_lat_scatter,south_temp_scatter)\n",
    "regress_values = south_lat_scatter * slope + intercept\n",
    "line_eq = \"y = \" + str(round(slope,2)) + \"x + \" + str(round(intercept,2))\n",
    "plt.scatter(south_lat_scatter,south_temp_scatter)\n",
    "plt.plot(south_lat_scatter,regress_values,\"r-\")\n",
    "plt.xlabel('Latitude')\n",
    "plt.ylabel('Temperature')\n",
    "plt.title('Southern Hemisphere - Max Temp vs. Latitude Linear Regression')\n",
    "plt.show()\n",
    "print(f'The r-value is {rvalue}')"
   ]
  },
  {
   "cell_type": "code",
   "execution_count": null,
   "id": "52f56a65",
   "metadata": {},
   "outputs": [],
   "source": [
    "(slope, intercept, rvalue, pvalue, stderr) = linregress(north_lat_scatter,north_hum_scatter)\n",
    "regress_values = north_lat_scatter * slope + intercept\n",
    "line_eq = \"y = \" + str(round(slope,2)) + \"x + \" + str(round(intercept,2))\n",
    "plt.scatter(north_lat_scatter,north_hum_scatter)\n",
    "plt.plot(north_lat_scatter,regress_values,\"r-\")\n",
    "plt.xlabel('Latitude')\n",
    "plt.ylabel('Humidity')\n",
    "plt.title('Northern Hemisphere - Humidity (%) vs. Latitude Linear Regression')\n",
    "plt.show()\n",
    "print(f'The r-value is {rvalue}')"
   ]
  },
  {
   "cell_type": "code",
   "execution_count": null,
   "id": "09d279c4",
   "metadata": {},
   "outputs": [],
   "source": [
    "(slope, intercept, rvalue, pvalue, stderr) = linregress(south_lat_scatter,south_hum_scatter)\n",
    "regress_values = south_lat_scatter * slope + intercept\n",
    "line_eq = \"y = \" + str(round(slope,2)) + \"x + \" + str(round(intercept,2))\n",
    "plt.scatter(south_lat_scatter,south_hum_scatter)\n",
    "plt.plot(south_lat_scatter,regress_values,\"r-\")\n",
    "plt.xlabel('Latitude')\n",
    "plt.ylabel('Humidity')\n",
    "plt.title('Southern Hemisphere - Humidity (%) vs. Latitude Linear Regression')\n",
    "plt.show()\n",
    "print(f'The r-value is {rvalue}')"
   ]
  },
  {
   "cell_type": "code",
   "execution_count": null,
   "id": "3fba63ec",
   "metadata": {},
   "outputs": [],
   "source": [
    "(slope, intercept, rvalue, pvalue, stderr) = linregress(north_lat_scatter,north_cloud_scatter)\n",
    "regress_values = north_lat_scatter * slope + intercept\n",
    "line_eq = \"y = \" + str(round(slope,2)) + \"x + \" + str(round(intercept,2))\n",
    "plt.scatter(north_lat_scatter,north_cloud_scatter)\n",
    "plt.plot(north_lat_scatter,regress_values,\"r-\")\n",
    "plt.xlabel('Latitude')\n",
    "plt.ylabel('Cloudiness')\n",
    "plt.title('Northern Hemisphere - Cloudiness (%) vs. Latitude Linear Regression')\n",
    "plt.show()\n",
    "print(f'The r-value is {rvalue}')"
   ]
  },
  {
   "cell_type": "code",
   "execution_count": null,
   "id": "8cb37e6b",
   "metadata": {},
   "outputs": [],
   "source": [
    "(slope, intercept, rvalue, pvalue, stderr) = linregress(south_lat_scatter,south_cloud_scatter)\n",
    "regress_values = south_lat_scatter * slope + intercept\n",
    "line_eq = \"y = \" + str(round(slope,2)) + \"x + \" + str(round(intercept,2))\n",
    "plt.scatter(south_lat_scatter,south_cloud_scatter)\n",
    "plt.plot(south_lat_scatter,regress_values,\"r-\")\n",
    "plt.xlabel('Latitude')\n",
    "plt.ylabel('Cloudiness')\n",
    "plt.title('Southern Hemisphere - Cloudiness (%) vs. Latitude Linear Regression')\n",
    "plt.show()\n",
    "print(f'The r-value is {rvalue}')"
   ]
  },
  {
   "cell_type": "code",
   "execution_count": null,
   "id": "24f63d82",
   "metadata": {},
   "outputs": [],
   "source": [
    "(slope, intercept, rvalue, pvalue, stderr) = linregress(north_lat_scatter,north_wind_speed_scatter)\n",
    "regress_values = north_lat_scatter * slope + intercept\n",
    "line_eq = \"y = \" + str(round(slope,2)) + \"x + \" + str(round(intercept,2))\n",
    "plt.scatter(north_lat_scatter,north_wind_speed_scatter)\n",
    "plt.plot(north_lat_scatter,regress_values,\"r-\")\n",
    "plt.xlabel('Latitude')\n",
    "plt.ylabel('Wind Speed')\n",
    "plt.title('Northern Hemisphere - Wind Speed (mph) vs. Latitude Linear Regression')\n",
    "plt.show()\n",
    "print(f'The r-value is {rvalue}')"
   ]
  },
  {
   "cell_type": "code",
   "execution_count": null,
   "id": "1da9f12e",
   "metadata": {},
   "outputs": [],
   "source": [
    "(slope, intercept, rvalue, pvalue, stderr) = linregress(south_lat_scatter,south_wind_speed_scatter)\n",
    "regress_values = south_lat_scatter * slope + intercept\n",
    "line_eq = \"y = \" + str(round(slope,2)) + \"x + \" + str(round(intercept,2))\n",
    "plt.scatter(south_lat_scatter,south_wind_speed_scatter)\n",
    "plt.plot(south_lat_scatter,regress_values,\"r-\")\n",
    "plt.xlabel('Latitude')\n",
    "plt.ylabel('Wind Speed')\n",
    "plt.title('Southern Hemisphere - Wind Speed (mph) vs. Latitude Linear Regression')\n",
    "plt.show()\n",
    "print(f'The r-value is {rvalue}')"
   ]
  },
  {
   "cell_type": "code",
   "execution_count": null,
   "id": "b714280a",
   "metadata": {},
   "outputs": [],
   "source": []
  },
  {
   "cell_type": "code",
   "execution_count": null,
   "id": "5cea4c5c",
   "metadata": {},
   "outputs": [],
   "source": []
  }
 ],
 "metadata": {
  "kernelspec": {
   "display_name": "Python 3 (ipykernel)",
   "language": "python",
   "name": "python3"
  },
  "language_info": {
   "codemirror_mode": {
    "name": "ipython",
    "version": 3
   },
   "file_extension": ".py",
   "mimetype": "text/x-python",
   "name": "python",
   "nbconvert_exporter": "python",
   "pygments_lexer": "ipython3",
   "version": "3.8.5"
  }
 },
 "nbformat": 4,
 "nbformat_minor": 5
}
