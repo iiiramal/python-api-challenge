{
 "cells": [
  {
   "cell_type": "code",
   "execution_count": 31,
   "id": "127892e0",
   "metadata": {},
   "outputs": [],
   "source": [
    " # Dependencies and Setup\n",
    "import matplotlib.pyplot as plt\n",
    "import pandas as pd\n",
    "import numpy as np\n",
    "import requests\n",
    "import time\n",
    "from scipy.stats import linregress\n",
    "\n",
    "# Import API key\n",
    "from api_keys import weather_api_key\n",
    "\n",
    "# Incorporated citipy to determine city based on latitude and longitude\n",
    "from citipy import citipy\n",
    "\n",
    "# Output File (CSV)\n",
    "output_data_file = \"output_data/cities.csv\"\n",
    "\n",
    "# Range of latitudes and longitudes\n",
    "lat_range = (-90, 90)\n",
    "lng_range = (-180, 180)"
   ]
  },
  {
   "cell_type": "code",
   "execution_count": 14,
   "id": "3045d56b",
   "metadata": {},
   "outputs": [
    {
     "data": {
      "text/plain": [
       "598"
      ]
     },
     "execution_count": 14,
     "metadata": {},
     "output_type": "execute_result"
    }
   ],
   "source": [
    " # List for holding lat_lngs and cities\n",
    "lat_lngs = []\n",
    "cities = []\n",
    "\n",
    "# Create a set of random lat and lng combinations\n",
    "lats = np.random.uniform(lat_range[0], lat_range[1], size=1500)\n",
    "lngs = np.random.uniform(lng_range[0], lng_range[1], size=1500)\n",
    "lat_lngs = zip(lats, lngs)\n",
    "\n",
    "# Identify nearest city for each lat, lng combination\n",
    "for lat_lng in lat_lngs:\n",
    "    city = citipy.nearest_city(lat_lng[0], lat_lng[1]).city_name\n",
    "    \n",
    "    # If the city is unique, then add it to a our cities list\n",
    "    if city not in cities:\n",
    "        cities.append(city)\n",
    "\n",
    "# Print the city count to confirm sufficient count\n",
    "len(cities)"
   ]
  },
  {
   "cell_type": "code",
   "execution_count": 16,
   "id": "3dfc7afd",
   "metadata": {},
   "outputs": [
    {
     "name": "stdout",
     "output_type": "stream",
     "text": [
      "['port lincoln', 'castro', 'kapaa', 'ribeira grande', 'monroe', 'kaseda', 'gazanjyk', 'praia', 'san policarpo', 'lata', 'longyearbyen', 'gamba', 'tuatapere', 'bethel', 'vostok', 'atuona', 'bengkulu', 'lanxi', 'codrington', 'harlingen', 'evensk', 'busselton', 'manbij', 'mar del plata', 'hilo', 'dzhusaly', 'morgan city', 'samusu', 'burns lake', 'ust-nera', 'lavumisa', 'north platte', 'kirakira', 'manicore', 'thompson', 'abu dhabi', 'ghatal', 'hasaki', 'balaipungut', 'celina', 'lodwar', 'dikson', 'punta arenas', 'ponta do sol', 'hermanus', 'upernavik', 'kodiak', 'mataura', 'cape town', 'ushuaia', 'khani', 'olinda', 'rikitea', 'cocobeach', 'adrar', 'severo-kurilsk', 'yellowknife', 'talnakh', 'yar-sale', 'klaksvik', 'lebu', 'muros', 'saint-philippe', 'fairbanks', 'warqla', 'avarua', 'norman wells', 'coquimbo', 'amderma', 'jamestown', 'doha', 'mys shmidta', 'tasiilaq', 'illoqqortoormiut', 'albany', 'sao filipe', 'sweetwater', 'puerto escondido', 'tura', 'attawapiskat', 'port alfred', 'faanui', 'karratha', 'qaqortoq', 'ilulissat', 'paamiut', 'solnechnyy', 'kruisfontein', 'arraial do cabo', 'khatanga', 'kungurtug', 'mount isa', 'mount gambier', 'roquetas de mar', 'bredasdorp', 'belushya guba', 'nome', 'new norfolk', 'gubkinskiy', 'mahebourg', 'dunedin', 'ust-kulom', 'kusye-aleksandrovskiy', 'bluff', 'buala', 'provideniya', 'washington', 'kwidzyn', 'taolanaro', 'chokurdakh', 'constitucion', 'pitiquito', 'port hedland', 'swift current', 'san patricio', 'saskylakh', 'merauke', 'pandan', 'abnub', 'shimoda', 'cockburn town', 'yantal', 'bambous virieux', 'butaritari', 'edson', 'vila velha', 'holme', 'esperance', 'qaanaaq', 'barawe', 'muroto', 'uyuni', 'kantilo', 'puerto madero', 'toppenish', 'tuktoyaktuk', 'port moresby', 'cidreira', 'emerald', 'tautira', 'katsuura', 'pedregulho', 'coihaique', 'smolyaninovo', 'sulangan', 'opuwo', 'ozinki', 'ancud', 'krasnoselkup', 'saint george', 'victoria', 'ca mau', 'vaini', 'mackay', 'grand river south east', 'hobart', 'almaznyy', 'port hardy', 'sant feliu de guixols', 'souillac', 'touros', 'lao cai', 'nikolskoye', 'sitka', 'cabo san lucas', 'hovd', 'pangody', 'bafq', 'saldanha', 'marzuq', 'dudinka', 'san cristobal', 'joao pinheiro', 'kaitangata', 'margate', 'ust-kut', 'inverness', 'ushtobe', 'suluq', 'yumen', 'jumla', 'hithadhoo', 'ust-tsilma', 'tiksi', 'dingle', 'vangaindrano', 'camacha', 'clyde river', 'tsihombe', 'tilichiki', 'lasa', 'east london', 'tabou', 'villa del rosario', 'namibe', 'manono', 'villa bruzual', 'markova', 'polunochnoye', 'puerto ayora', 'cayenne', 'kyaikto', 'waingapu', 'cap malheureux', 'olafsvik', 'kankan', 'port blair', 'huntsville', 'zhanaozen', 'sentyabrskiy', 'byron bay', 'meulaboh', 'itoman', 'adrasmon', 'comodoro rivadavia', 'nadym', 'talas', 'burkhala', 'xichang', 'barrow', 'pevek', 'lushunkou', 'mogadishu', 'olga', 'porto novo', 'pegnitz', 'bowen', 'lock haven', 'bongor', 'timmins', 'dublin', 'mantsala', 'santa clara', 'skibbereen', 'nkayi', 'isangel', 'caravelas', 'escuintla', 'turukhansk', 'cairns', 'chifeng', 'tra vinh', 'beira', 'benjamin hill', 'koboldo', 'georgetown', 'cururupu', 'merke', 'berdigestyakh', 'quelimane', 'hambantota', 'dharchula', 'syracuse', 'warangal', 'pacific grove', 'hofn', 'marsh harbour', 'waitara', 'ostrovnoy', 'samarai', 'danesti', 'narsaq', 'pechenga', 'acajutla', 'okhotsk', 'kidal', 'kazalinsk', 'saleaula', 'yirol', 'qasigiannguit', 'inhambane', 'kahului', 'bastia', 'itarema', 'kavieng', 'harper', 'yulara', 'bolshiye berezniki', 'gandia', 'umzimvubu', 'kamenka', 'artyom', 'vaitupu', 'nanortalik', 'iqaluit', 'acarau', 'palabuhanratu', 'bur gabo', 'carnarvon', 'thinadhoo', 'ucluelet', 'siirt', 'ahipara', 'grand-lahou', 'vila franca do campo', 'zyryanka', 'mao', 'garowe', 'lompoc', 'guerrero negro', 'sataua', 'dickson', 'barentsburg', 'egvekinot', 'suez', 'rio gallegos', 'port elizabeth', 'rocha', 'urucara', 'nizhneyansk', 'aleksandrovskiy zavod', 'adre', 'aswan', 'mazamari', 'mombaca', 'alugan', 'ambodifototra', 'clinton', 'young', 'svetlogorsk', 'moi', 'urdzhar', 'cherskiy', 'poum', 'masaling', 'bandarbeyla', 'karaul', 'fuerte olimpo', 'padang', 'napanee', 'rucheng', 'kitzbuhel', 'havoysund', 'sur', 'abu samrah', 'gazni', 'manokwari', 'imeni poliny osipenko', 'sept-iles', 'koumac', 'pyay', 'baculin', 'ust-ishim', 'diego de almagro', 'lorengau', 'dolbeau', 'severnyy', 'dera ghazi khan', 'marawi', 'ler', 'taikang', 'barcelos', 'prince rupert', 'cabras', 'kajaani', 'vilhena', 'magadan', 'chimoio', 'te anau', 'chernyshevskiy', 'chuy', 'sorland', 'dillon', 'arezzo', 'olawa', 'kurilsk', 'beipiao', 'shagonar', 'babanusah', 'airai', 'hellin', 'phatthalung', 'pontarlier', 'naze', 'cabedelo', 'tumannyy', 'jalu', 'valdemarpils', 'show low', 'kamaishi', 'aykhal', 'beloha', 'brandon', 'arauca', 'srandakan', 'necochea', 'talcahuano', 'kazachinskoye', 'catuday', 'gunjur', 'port-cartier', 'dhidhdhoo', 'taoudenni', 'luderitz', 'westport', 'salinopolis', 'izhma', 'dicabisagan', 'flinders', 'novochernorechenskiy', 'songea', 'dom pedrito', 'bundaberg', 'bida', 'jacareacanga', 'beringovskiy', 'hamilton', 'omsukchan', 'khanpur', 'dogondoutchi', 'salalah', 'storslett', 'limoeiro do ajuru', 'golega', 'kyzyl-suu', 'bubaque', 'faya', 'avera', 'umm lajj', 'kollumerland', 'sao miguel do araguaia', 'liverpool', 'le port', 'port macquarie', 'nicoya', 'berlevag', 'viedma', 'glenwood springs', 'nishihara', 'meadow lake', 'linchuan', 'gurupa', 'killybegs', 'carora', 'abhar', 'komsomolskiy', 'kambove', 'onega', 'fortuna', 'guadalajara', 'korla', 'tual', 'shawinigan', 'suoyarvi', 'vestmannaeyjar', 'livingston', 'kutum', 'arawa', 'maragogi', 'baruun-urt', 'karatsu', 'tungor', 'port-gentil', 'torbay', 'teknaf', 'the valley', 'lavrentiya', 'menongue', 'garden city', 'mildura', 'vao', 'den helder', 'susanville', 'myanaung', 'jaicos', 'sobolevo', 'micheweni', 'lecce', 'san andres', 'ribeira brava', 'chapada dos guimaraes', 'ciudad bolivar', 'baoshan', 'caconda', 'ola', 'salur', 'bichura', 'algete', 'senno', 'hobyo', 'tianpeng', 'whitehorse', 'north branch', 'mentok', 'geraldton', 'paragominas', 'katangli', 'baykit', 'rorvik', 'larap', 'ruatoria', 'colombo', 'biskamzha', 'los llanos de aridane', 'ugoofaaru', 'auki', 'anshun', 'portland', 'milkovo', 'jining', 'saint-pierre', 'ishigaki', 'walvis bay', 'chomun', 'griffith', 'banda aceh', 'jalingo', 'sagua la grande', 'hervey bay', 'ouadda', 'nyurba', 'oparino', 'carballo', 'torres', 'kushima', 'burnie', 'phnum penh', 'saldus', 'craig', 'achisay', 'tateyama', 'sofiysk', 'azimur', 'ye', 'champerico', 'lolua', 'kloulklubed', 'petropavlovsk-kamchatskiy', 'antalaha', 'keetmanshoop', 'raudeberg', 'husavik', 'pozo colorado', 'coahuayana', 'ijaki', 'panguna', 'irbeyskoye', 'gat', 'nanakuli', 'khowai', 'ust-koksa', 'muisne', 'maniitsoq', 'asau', 'san matias', 'rabo de peixe', 'haines junction', 'beyneu', 'chichimila', 'ambilobe', 'alofi', 'biak', 'kimbe', 'bogande', 'fazilka', 'formoso do araguaia', 'auburn', 'anchorage', 'broken hill', 'sungairaya', 'ubala', 'san pedro buenavista', 'kushiro', 'lovozero', 'cumaribo', 'lagoa', 'banyo', 'mizdah', 'laiagam', 'uvalde', 'labuhan', 'sistranda', 'campbell river', 'labutta', 'shenjiamen', 'erzin', 'graham', 'oudtshoorn', 'natitingou', 'vestmanna', 'caraballeda', 'baghdad', 'hostotipaquillo', 'ampanihy', 'bustamante', 'sorvag', 'hit', 'san-pedro', 'locri', 'lodja', 'lowestoft', 'kalvarija', 'san joaquin', 'havre-saint-pierre', 'marcona', 'chernaya kholunitsa', 'hotaka', 'chibuto']\n"
     ]
    }
   ],
   "source": [
    "print(list(cities))"
   ]
  },
  {
   "cell_type": "code",
   "execution_count": 25,
   "id": "d6f03a7b",
   "metadata": {},
   "outputs": [
    {
     "name": "stdout",
     "output_type": "stream",
     "text": [
      "The weather API responded with: {'cod': 401, 'message': 'Invalid API key. Please see http://openweathermap.org/faq#error401 for more info.'}.\n"
     ]
    }
   ],
   "source": [
    "# Save config information\n",
    "url = \"http://api.openweathermap.org/data/2.5/weather?\"\n",
    "city = \"port lincoln\"\n",
    "\n",
    "# Build query URL\n",
    "query_url = url + \"appid=\" + weather_api_key + \"&q=\" + city\n",
    "\n",
    "# Get weather data\n",
    "weather_response = requests.get(query_url)\n",
    "weather_json = weather_response.json()\n",
    "\n",
    "# Get the temperature from the response\n",
    "print(f\"The weather API responded with: {weather_json}.\")"
   ]
  },
  {
   "cell_type": "code",
   "execution_count": 30,
   "id": "7ff5962f",
   "metadata": {},
   "outputs": [
    {
     "data": {
      "text/plain": [
       "'YOUR KEY HERE!'"
      ]
     },
     "execution_count": 30,
     "metadata": {},
     "output_type": "execute_result"
    }
   ],
   "source": [
    "weather_api_key"
   ]
  },
  {
   "cell_type": "code",
   "execution_count": null,
   "id": "d958042e",
   "metadata": {},
   "outputs": [],
   "source": []
  }
 ],
 "metadata": {
  "kernelspec": {
   "display_name": "Python 3 (ipykernel)",
   "language": "python",
   "name": "python3"
  },
  "language_info": {
   "codemirror_mode": {
    "name": "ipython",
    "version": 3
   },
   "file_extension": ".py",
   "mimetype": "text/x-python",
   "name": "python",
   "nbconvert_exporter": "python",
   "pygments_lexer": "ipython3",
   "version": "3.8.5"
  }
 },
 "nbformat": 4,
 "nbformat_minor": 5
}
