{
 "cells": [
  {
   "cell_type": "code",
   "execution_count": null,
   "id": "e1ca63d3",
   "metadata": {},
   "outputs": [],
   "source": [
    " # Dependencies and Setup\n",
    "import matplotlib.pyplot as plt\n",
    "import pandas as pd\n",
    "import numpy as np\n",
    "import requests\n",
    "import gmaps\n",
    "import os\n",
    "\n",
    "# Import API key\n",
    "from api_keys import g_key\n",
    "\n",
    "# Configure gmaps with API key\n",
    "gmaps.configure(api_key=g_key)\n",
    "\n",
    "#declare file path for cities data\n",
    "cities_path = \"output_data/cities.csv\""
   ]
  },
  {
   "cell_type": "code",
   "execution_count": null,
   "id": "5640be1b",
   "metadata": {},
   "outputs": [],
   "source": [
    "cities_df = pd.read_csv(cities_path)\n",
    "cities_df.dropna()\n",
    "cities_df"
   ]
  },
  {
   "cell_type": "code",
   "execution_count": null,
   "id": "a7ecc85d",
   "metadata": {},
   "outputs": [],
   "source": [
    "locations = cities_df[[\"Lat\", \"Lng\"]].astype(float)\n",
    "locations"
   ]
  },
  {
   "cell_type": "code",
   "execution_count": null,
   "id": "bd508c57",
   "metadata": {},
   "outputs": [],
   "source": [
    "humidity = cities_df[\"Humidity\"].tolist()\n",
    "print(humidity)"
   ]
  },
  {
   "cell_type": "code",
   "execution_count": null,
   "id": "9c8c2dfd",
   "metadata": {
    "scrolled": true
   },
   "outputs": [],
   "source": [
    "fig = gmaps.figure()\n",
    "\n",
    "heat_layer = gmaps.heatmap_layer(locations, weights=humidity, \n",
    "                                 dissipating=False, max_intensity=100,\n",
    "                                 point_radius = 3)\n",
    "\n",
    "fig.add_layer(heat_layer)\n",
    "\n",
    "fig"
   ]
  },
  {
   "cell_type": "code",
   "execution_count": null,
   "id": "190ade5f",
   "metadata": {},
   "outputs": [],
   "source": [
    "hotel_df = cities_df.copy()"
   ]
  },
  {
   "cell_type": "code",
   "execution_count": null,
   "id": "81c9e308",
   "metadata": {},
   "outputs": [],
   "source": [
    "hotel_df = hotel_df[hotel_df['Max Temp'] > 70]\n",
    "hotel_df = hotel_df[hotel_df['Max Temp'] < 80]\n",
    "hotel_df = hotel_df[hotel_df['Cloudiness'] > 20]\n",
    "hotel_df = hotel_df[hotel_df['Cloudiness'] < 35]\n",
    "hotel_df = hotel_df[hotel_df['Wind Speed'] < 10 ]\n",
    "hotel_df = hotel_df[hotel_df['Humidity'] < 80 ]\n",
    "hotel_df['Hotel'] = \"\"\n",
    "hotel_df"
   ]
  },
  {
   "cell_type": "code",
   "execution_count": null,
   "id": "976804cf",
   "metadata": {},
   "outputs": [],
   "source": [
    "base_url = \"https://maps.googleapis.com/maps/api/place/nearbysearch/json\"\n",
    "params = {\n",
    "    #\"location\": (f\"{hotel_df[index]},{hotel_df[index]}\")  \n",
    "    \"rankby\": \"distance\",\n",
    "    \"type\": \"hotel\",\n",
    "    \"keyword\": \"hotel\",\n",
    "    \"key\": g_key,\n",
    "}\n",
    "# use iterrows to iterate through pandas dataframe\n",
    "for index, row in hotel_df.iterrows():\n",
    "\n",
    "    # get restaurant type from df\n",
    "    city = row['City']\n",
    "    latitude = row['Lat']\n",
    "    longitude = row['Lng']\n",
    "\n",
    "    # add keyword to params dict\n",
    "    params['location'] = (f\"{latitude},{longitude}\")\n",
    "\n",
    "    # assemble url and make API request\n",
    "    print(f\"Retrieving Results for Index {index}: {city}.\")\n",
    "    response = requests.get(base_url, params=params).json()\n",
    "    \n",
    "    # extract results\n",
    "    results = response['results']\n",
    "    \n",
    "    try:\n",
    "        print(f\"Closest {city} Hotel is {results[0]['name']}.\")\n",
    "        \n",
    "        hotel_df.loc[index, 'Hotel'] = results[0]['name']\n",
    "        \n",
    "    except (KeyError, IndexError):\n",
    "        print(\"Missing field/result... skipping.\")\n",
    "        \n",
    "    print(\"------------\")"
   ]
  },
  {
   "cell_type": "code",
   "execution_count": null,
   "id": "33941012",
   "metadata": {},
   "outputs": [],
   "source": [
    "nan_value = float(\"NaN\")\n",
    "hotel_df.replace(\"\", nan_value, inplace=True)\n",
    "hotel_df.dropna(subset = [\"Hotel\"], inplace=True)\n",
    "hotel_df"
   ]
  },
  {
   "cell_type": "code",
   "execution_count": null,
   "id": "3d818474",
   "metadata": {},
   "outputs": [],
   "source": [
    "# Using the template add the hotel marks to the heatmap\n",
    "info_box_template = \"\"\"\n",
    "<dl>\n",
    "<dt>Name</dt><dd>{Hotel}</dd>\n",
    "<dt>City</dt><dd>{City}</dd>\n",
    "<dt>Country</dt><dd>{Country}</dd>\n",
    "</dl>\n",
    "\"\"\"\n",
    "# Store the DataFrame Row\n",
    "# NOTE: be sure to update with your DataFrame name\n",
    "hotel_info = [info_box_template.format(**row) for index, row in hotel_df.iterrows()]\n",
    "locations = cities_df[[\"Lat\", \"Lng\"]]"
   ]
  },
  {
   "cell_type": "code",
   "execution_count": null,
   "id": "aeae33c7",
   "metadata": {},
   "outputs": [],
   "source": [
    "hotel_locations = hotel_df[[\"Lat\", \"Lng\"]].astype(float)"
   ]
  },
  {
   "cell_type": "code",
   "execution_count": null,
   "id": "6fd7e742",
   "metadata": {},
   "outputs": [],
   "source": [
    "fig = gmaps.figure()\n",
    "markers = gmaps.marker_layer(hotel_locations, info_box_content=hotel_info)\n",
    "fig.add_layer(markers)\n",
    "fig"
   ]
  },
  {
   "cell_type": "code",
   "execution_count": null,
   "id": "2b2fe9a3",
   "metadata": {},
   "outputs": [],
   "source": [
    "# Create a combined map\n",
    "fig = gmaps.figure()\n",
    "\n",
    "fig.add_layer(heat_layer)\n",
    "fig.add_layer(markers)\n",
    "\n",
    "fig"
   ]
  },
  {
   "cell_type": "code",
   "execution_count": null,
   "id": "be8ac51d",
   "metadata": {},
   "outputs": [],
   "source": []
  }
 ],
 "metadata": {
  "kernelspec": {
   "display_name": "Python 3 (ipykernel)",
   "language": "python",
   "name": "python3"
  },
  "language_info": {
   "codemirror_mode": {
    "name": "ipython",
    "version": 3
   },
   "file_extension": ".py",
   "mimetype": "text/x-python",
   "name": "python",
   "nbconvert_exporter": "python",
   "pygments_lexer": "ipython3",
   "version": "3.8.5"
  }
 },
 "nbformat": 4,
 "nbformat_minor": 5
}
