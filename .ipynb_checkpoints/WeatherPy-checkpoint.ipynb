{
 "cells": [
  {
   "cell_type": "code",
   "execution_count": null,
   "id": "127892e0",
   "metadata": {},
   "outputs": [],
   "source": [
    " # Dependencies and Setup\n",
    "import matplotlib.pyplot as plt\n",
    "import pandas as pd\n",
    "import numpy as np\n",
    "import requests\n",
    "import time\n",
    "from scipy.stats import linregress\n",
    "\n",
    "# Import API key\n",
    "from api_keys import weather_api_key\n",
    "\n",
    "# Incorporated citipy to determine city based on latitude and longitude\n",
    "from citipy import citipy\n",
    "\n",
    "# Output File (CSV)\n",
    "output_data_file = \"output_data/cities.csv\"\n",
    "\n",
    "# Range of latitudes and longitudes\n",
    "lat_range = (-90, 90)\n",
    "lng_range = (-180, 180)"
   ]
  },
  {
   "cell_type": "code",
   "execution_count": null,
   "id": "3045d56b",
   "metadata": {},
   "outputs": [],
   "source": [
    " # List for holding lat_lngs and cities\n",
    "lat_lngs = []\n",
    "cities = []\n",
    "\n",
    "# Create a set of random lat and lng combinations\n",
    "lats = np.random.uniform(lat_range[0], lat_range[1], size=1500)\n",
    "lngs = np.random.uniform(lng_range[0], lng_range[1], size=1500)\n",
    "lat_lngs = zip(lats, lngs)\n",
    "\n",
    "# Identify nearest city for each lat, lng combination\n",
    "for lat_lng in lat_lngs:\n",
    "    city = citipy.nearest_city(lat_lng[0], lat_lng[1]).city_name\n",
    "    \n",
    "    # If the city is unique, then add it to a our cities list\n",
    "    if city not in cities:\n",
    "        cities.append(city)\n",
    "\n",
    "# Print the city count to confirm sufficient count\n",
    "len(cities)"
   ]
  },
  {
   "cell_type": "code",
   "execution_count": null,
   "id": "3dfc7afd",
   "metadata": {},
   "outputs": [],
   "source": [
    "\n",
    "num_cities = len(cities)\n",
    "sets = num_cities/58\n",
    "if (sets-round(sets)) < 0:\n",
    "    total_sets = int(sets + (-(sets-round(sets))))\n",
    "else: \n",
    "    total_sets = int(sets + (1-(sets-round(sets))))\n",
    "print(f\"There will be {total_sets} calls based on {num_cities} cities.\")"
   ]
  },
  {
   "cell_type": "code",
   "execution_count": null,
   "id": "97aa403d",
   "metadata": {},
   "outputs": [],
   "source": [
    "# Save config information\n",
    "url = \"http://api.openweathermap.org/data/2.5/weather?\"\n",
    "units = \"metric\"\n",
    "\n",
    "\n",
    "# Build query URL\n",
    "query_url = f\"{url}appid={weather_api_key}&units={units}&q=\""
   ]
  },
  {
   "cell_type": "code",
   "execution_count": null,
   "id": "9020f425",
   "metadata": {},
   "outputs": [],
   "source": [
    "y=0\n",
    "fail_count = 0\n",
    "success_count = 0\n",
    "citycount = 0\n",
    "stopcount = len(cities)-1\n",
    "response_json = []\n",
    "request_check = []\n",
    "city = []\n",
    "lat = []\n",
    "temp = []\n",
    "temp_max = []\n",
    "temp_min = []\n",
    "lng = []\n",
    "humidity = []\n",
    "cloudiness = []\n",
    "wind_speed = []\n",
    "country = []\n",
    "date = []\n",
    "\n",
    "# Make a request for each of the cities\n",
    "print(f\"Beginning Data Retrieval\\n-----------------------------\")\n",
    "total_start = time.time()\n",
    "for x in range(total_sets):\n",
    "    start = time.time()\n",
    "    for y in range (citycount,(((x+1)*58))):\n",
    "        print(f\"Processing Record {(y-((x*58)))+1} of set {x+1} | {cities[y]}\")\n",
    "        # Get one of the posts\n",
    "        post_response = requests.get(query_url + str(cities[y]))\n",
    "        request_check = post_response.json()\n",
    "        if request_check['cod'] == '404':\n",
    "            print('Invalid City. Skipping...')\n",
    "            fail_count = fail_count+1\n",
    "        else:\n",
    "            #Save post's JSON\n",
    "            city.append(request_check['name'])\n",
    "            lat.append(request_check['coord']['lat'])\n",
    "            lng.append(request_check['coord']['lon'])\n",
    "            temp.append(request_check['main']['temp'])\n",
    "            temp_max.append(request_check['main']['temp_max'])\n",
    "            temp_min.append(request_check['main']['temp_min'])\n",
    "            humidity.append(request_check['main']['humidity'])\n",
    "            cloudiness.append(request_check['clouds']['all'])\n",
    "            wind_speed.append(request_check['wind']['speed'])\n",
    "            country.append(request_check['sys']['country'])\n",
    "            date.append(request_check['dt'])\n",
    "            success_count = success_count+1\n",
    "        end = time.time()\n",
    "        citycount = citycount+1\n",
    "        if (citycount) > stopcount:\n",
    "            break\n",
    "    \n",
    "    timedifference = end - start\n",
    "    td60 = 61 - timedifference\n",
    "    x=x+1\n",
    "    if x < total_sets:\n",
    "        time.sleep(td60)\n",
    "        \n",
    "total_end = time.time()\n",
    "total_elapsed = (total_end - total_start)/60\n",
    "print(f\"----------------------------- \\nData Retrieval Complete \\n-----------------------------\\nData for {success_count} cities was loaded successfully, and there were {fail_count} cities not found. The process took approximately {round(total_elapsed,2)} minutes\")"
   ]
  },
  {
   "cell_type": "code",
   "execution_count": null,
   "id": "e40d41c3",
   "metadata": {},
   "outputs": [],
   "source": [
    "#Create dictionary for dataframe\n",
    "weather_data_dict = {\n",
    "'City':city,\n",
    "'Lat':lat,\n",
    "'Lng':lng,\n",
    "'Temp':temp,\n",
    "'Max Temp':temp_max,\n",
    "'Min Temp':temp_min,\n",
    "'Humidity':humidity,\n",
    "'Cloudiness':cloudiness,\n",
    "'Wind Speed':wind_speed,\n",
    "'Country':country,\n",
    "'Date':date}"
   ]
  },
  {
   "cell_type": "code",
   "execution_count": null,
   "id": "56942190",
   "metadata": {},
   "outputs": [],
   "source": [
    "weather_data = pd.DataFrame(weather_data_dict)"
   ]
  },
  {
   "cell_type": "code",
   "execution_count": null,
   "id": "d0022520",
   "metadata": {},
   "outputs": [],
   "source": [
    "weather_data"
   ]
  },
  {
   "cell_type": "code",
   "execution_count": null,
   "id": "ff3b1060",
   "metadata": {},
   "outputs": [],
   "source": [
    "temp_conversion = 0"
   ]
  },
  {
   "cell_type": "code",
   "execution_count": null,
   "id": "478d8861",
   "metadata": {},
   "outputs": [],
   "source": [
    "if temp_conversion == 0:\n",
    "    weather_data['Temp'] = round((weather_data['Temp'] * (9/5)) + 32,0)\n",
    "    weather_data['Max Temp'] = round((weather_data['Max Temp'] * (9/5)) + 32,0)\n",
    "    weather_data['Min Temp'] = round((weather_data['Min Temp'] * (9/5)) + 32,0)\n",
    "    temp_conversion = temp_conversion+1"
   ]
  },
  {
   "cell_type": "code",
   "execution_count": null,
   "id": "d22b3392",
   "metadata": {},
   "outputs": [],
   "source": [
    "humidity_outliers = weather_data[weather_data['Humidity'] > 100].copy()\n",
    "humidity_outliers"
   ]
  },
  {
   "cell_type": "code",
   "execution_count": null,
   "id": "9100f634",
   "metadata": {},
   "outputs": [],
   "source": [
    "if len(humidity_outliers) > 0:\n",
    "    weather_data_ex_hum_ol = weather_data[~weather_data['City'].isin(humidity_outliers['City'])].copy()\n",
    "    weather_data = weather_data_ex_hum_ol.copy()"
   ]
  },
  {
   "cell_type": "code",
   "execution_count": null,
   "id": "749e8cef",
   "metadata": {},
   "outputs": [],
   "source": [
    "weather_data"
   ]
  },
  {
   "cell_type": "code",
   "execution_count": null,
   "id": "abd9f47e",
   "metadata": {},
   "outputs": [],
   "source": [
    "weather_data.to_csv(output_data_file, index=False)"
   ]
  },
  {
   "cell_type": "code",
   "execution_count": null,
   "id": "2a56c1c4",
   "metadata": {},
   "outputs": [],
   "source": [
    "lat_scatter = weather_data.iloc[:,1]\n",
    "temp_scatter = weather_data.iloc[:,4]\n",
    "hum_scatter = weather_data.iloc[:,6]\n",
    "cloud_scatter = weather_data.iloc[:,7]\n",
    "wind_speed_scatter = weather_data.iloc[:,8]"
   ]
  },
  {
   "cell_type": "code",
   "execution_count": null,
   "id": "648f2b30",
   "metadata": {},
   "outputs": [],
   "source": [
    "plt.scatter(lat_scatter,temp_scatter)\n",
    "plt.xlabel('Latitude')\n",
    "plt.ylabel('Temperature')\n",
    "plt.title('City Latitude vs Max Temperature')\n",
    "plt.savefig('output_data/City Latitude vs Max Temperature.png')\n",
    "plt.show()"
   ]
  },
  {
   "cell_type": "markdown",
   "id": "bbe20f93",
   "metadata": {},
   "source": [
    "The above plot compares temperature to Latitude. \n",
    "They plot shows that as you reach the equator Max Temparature increases, and decreases as it moves away in either direction. \n",
    "Temperatures are lower in the Northern hemisphere than the Southern. "
   ]
  },
  {
   "cell_type": "code",
   "execution_count": null,
   "id": "0229accc",
   "metadata": {},
   "outputs": [],
   "source": [
    "plt.scatter(lat_scatter,hum_scatter)\n",
    "plt.xlabel('Latitude')\n",
    "plt.ylabel('Humidity')\n",
    "plt.title('City Latitude vs Humidity')\n",
    "plt.savefig('output_data/City Latitude vs Humidity.png')\n",
    "plt.show()"
   ]
  },
  {
   "cell_type": "markdown",
   "id": "0eb34263",
   "metadata": {},
   "source": [
    "The above plot compares Humidity to Latitude. \n",
    "Humidity appears to be relatively high (>60) in all parts of the globe, and has larger clusters of high humidity in the Northern Hemisphere. \n",
    "The equator appears to have fewer instances of low humidity.  "
   ]
  },
  {
   "cell_type": "code",
   "execution_count": null,
   "id": "c953cac7",
   "metadata": {},
   "outputs": [],
   "source": [
    "plt.scatter(lat_scatter,cloud_scatter)\n",
    "plt.xlabel('Latitude')\n",
    "plt.ylabel('Cloudiness')\n",
    "plt.title('City Latitude vs Cloudiness')\n",
    "plt.savefig('output_data/City Latitude vs Cloudiness.png')\n",
    "plt.show()"
   ]
  },
  {
   "cell_type": "markdown",
   "id": "ba6e771f",
   "metadata": {},
   "source": [
    "The above plot compares cloudiness to Latitude. \n",
    "Cloudiness does not appear to correlate much with latitude. \n",
    "The Equator seems to have fewer near 0 values for cloudiness. "
   ]
  },
  {
   "cell_type": "code",
   "execution_count": null,
   "id": "ab478f8e",
   "metadata": {},
   "outputs": [],
   "source": [
    "plt.scatter(lat_scatter,wind_speed_scatter)\n",
    "plt.xlabel('Latitude')\n",
    "plt.ylabel('Wind Speed')\n",
    "plt.title('City Latitude vs Wind Speed')\n",
    "plt.savefig('output_data/City Latitude vs Wind Speed.png')\n",
    "plt.show()"
   ]
  },
  {
   "cell_type": "markdown",
   "id": "1d5a33a6",
   "metadata": {},
   "source": [
    "The above plot compares temperature to Latitude. \n",
    "Wind Speed does not appear to correlate much with latitude. \n",
    "Wind speed appears relatively low in all parts of the globe. "
   ]
  },
  {
   "cell_type": "code",
   "execution_count": null,
   "id": "0a5985de",
   "metadata": {},
   "outputs": [],
   "source": [
    "#Create dataframe for weather in the Northern Hemisphere. \n",
    "weather_data_north = weather_data[weather_data['Lat'] >= 0].copy()"
   ]
  },
  {
   "cell_type": "code",
   "execution_count": null,
   "id": "e206af84",
   "metadata": {},
   "outputs": [],
   "source": [
    "weather_data_north"
   ]
  },
  {
   "cell_type": "code",
   "execution_count": null,
   "id": "9a079835",
   "metadata": {},
   "outputs": [],
   "source": [
    "#Create dataframe for weather in the Southern Hemisphere.\n",
    "weather_data_south = weather_data[weather_data['Lat'] < 0].copy()"
   ]
  },
  {
   "cell_type": "code",
   "execution_count": null,
   "id": "e561480f",
   "metadata": {},
   "outputs": [],
   "source": [
    "weather_data_south"
   ]
  },
  {
   "cell_type": "code",
   "execution_count": null,
   "id": "f73618ff",
   "metadata": {},
   "outputs": [],
   "source": [
    "\n",
    "north_lat_scatter = weather_data_north.iloc[:,1]\n",
    "north_temp_scatter = weather_data_north.iloc[:,4]\n",
    "north_hum_scatter = weather_data_north.iloc[:,6]\n",
    "north_cloud_scatter = weather_data_north.iloc[:,7]\n",
    "north_wind_speed_scatter = weather_data_north.iloc[:,8]\n",
    "south_lat_scatter = weather_data_south.iloc[:,1]\n",
    "south_temp_scatter = weather_data_south.iloc[:,4]\n",
    "south_hum_scatter = weather_data_south.iloc[:,6]\n",
    "south_cloud_scatter = weather_data_south.iloc[:,7]\n",
    "south_wind_speed_scatter = weather_data_south.iloc[:,8]"
   ]
  },
  {
   "cell_type": "code",
   "execution_count": null,
   "id": "6d0d6599",
   "metadata": {},
   "outputs": [],
   "source": [
    "(slope, intercept, rvalue, pvalue, stderr) = linregress(north_lat_scatter,north_temp_scatter)\n",
    "regress_values = north_lat_scatter * slope + intercept\n",
    "line_eq = \"y = \" + str(round(slope,2)) + \"x + \" + str(round(intercept,2))\n",
    "plt.scatter(north_lat_scatter,north_temp_scatter)\n",
    "plt.plot(north_lat_scatter,regress_values,\"r-\")\n",
    "plt.xlabel('Latitude')\n",
    "plt.ylabel('Temperature')\n",
    "plt.title('Northern Hemisphere - Max Temp vs. Latitude Linear Regression')\n",
    "plt.savefig('output_data/Northern Hemisphere - Max Temp vs. Latitude Linear Regression.png')\n",
    "plt.show()\n",
    "print(f'The r-value is {rvalue}')"
   ]
  },
  {
   "cell_type": "markdown",
   "id": "5a3a259a",
   "metadata": {},
   "source": [
    "The above plot compares temperature to Latitude in the northern hemisphere. \n",
    "These data points are highly correlated. \n",
    "As Latitude increases(away from the equator), temperature decreases. "
   ]
  },
  {
   "cell_type": "code",
   "execution_count": null,
   "id": "bea33cd0",
   "metadata": {},
   "outputs": [],
   "source": [
    "(slope, intercept, rvalue, pvalue, stderr) = linregress(south_lat_scatter,south_temp_scatter)\n",
    "regress_values = south_lat_scatter * slope + intercept\n",
    "line_eq = \"y = \" + str(round(slope,2)) + \"x + \" + str(round(intercept,2))\n",
    "plt.scatter(south_lat_scatter,south_temp_scatter)\n",
    "plt.plot(south_lat_scatter,regress_values,\"r-\")\n",
    "plt.xlabel('Latitude')\n",
    "plt.ylabel('Temperature')\n",
    "plt.title('Southern Hemisphere - Max Temp vs. Latitude Linear Regression')\n",
    "plt.savefig('output_data/Southern Hemisphere - Max Temp vs. Latitude Linear Regression.png')\n",
    "plt.show()\n",
    "print(f'The r-value is {rvalue}')"
   ]
  },
  {
   "cell_type": "markdown",
   "id": "8fe5b86a",
   "metadata": {},
   "source": [
    "The above plot compares temperature to Latitude in the southern hemisphere. \n",
    "These data points appear to be correlated, but the data set is smaller than the for the Northern Hemisphere.  \n",
    "As Latitude increases(toward the equator), temperature increases. "
   ]
  },
  {
   "cell_type": "code",
   "execution_count": null,
   "id": "2833e554",
   "metadata": {},
   "outputs": [],
   "source": [
    "(slope, intercept, rvalue, pvalue, stderr) = linregress(north_lat_scatter,north_hum_scatter)\n",
    "regress_values = north_lat_scatter * slope + intercept\n",
    "line_eq = \"y = \" + str(round(slope,2)) + \"x + \" + str(round(intercept,2))\n",
    "plt.scatter(north_lat_scatter,north_hum_scatter)\n",
    "plt.plot(north_lat_scatter,regress_values,\"r-\")\n",
    "plt.xlabel('Latitude')\n",
    "plt.ylabel('Humidity')\n",
    "plt.title('Northern Hemisphere - Humidity (%) vs. Latitude Linear Regression')\n",
    "plt.savefig('output_data/Northern Hemisphere - Humidity (%) vs. Latitude Linear Regression.png')\n",
    "plt.show()\n",
    "print(f'The r-value is {rvalue}')"
   ]
  },
  {
   "cell_type": "markdown",
   "id": "e2aaf3d4",
   "metadata": {},
   "source": [
    "The above plot compares Humidity to Latitude in the northern hemisphere. \n",
    "Humidity in the northern hemisphere appears to trend high. \n",
    "As Latitude increases, humidity increases slowly. \n",
    "There are many outliers on the low end. "
   ]
  },
  {
   "cell_type": "code",
   "execution_count": null,
   "id": "a2929817",
   "metadata": {},
   "outputs": [],
   "source": [
    "(slope, intercept, rvalue, pvalue, stderr) = linregress(south_lat_scatter,south_hum_scatter)\n",
    "regress_values = south_lat_scatter * slope + intercept\n",
    "line_eq = \"y = \" + str(round(slope,2)) + \"x + \" + str(round(intercept,2))\n",
    "plt.scatter(south_lat_scatter,south_hum_scatter)\n",
    "plt.plot(south_lat_scatter,regress_values,\"r-\")\n",
    "plt.xlabel('Latitude')\n",
    "plt.ylabel('Humidity')\n",
    "plt.title('Southern Hemisphere - Humidity (%) vs. Latitude Linear Regression')\n",
    "plt.savefig('output_data/Southern Hemisphere - Humidity (%) vs. Latitude Linear Regression.png')\n",
    "plt.show()\n",
    "print(f'The r-value is {rvalue}')"
   ]
  },
  {
   "cell_type": "markdown",
   "id": "79f83228",
   "metadata": {},
   "source": [
    "#The above plot compares Humidity to Latitude in the southern hemisphere. \n",
    "#Humidity in the northern hemisphere appears to be relatively spread out. \n",
    "#Humidity appears to trend higher as we approach the equator. "
   ]
  },
  {
   "cell_type": "code",
   "execution_count": null,
   "id": "45a59511",
   "metadata": {},
   "outputs": [],
   "source": [
    "(slope, intercept, rvalue, pvalue, stderr) = linregress(north_lat_scatter,north_cloud_scatter)\n",
    "regress_values = north_lat_scatter * slope + intercept\n",
    "line_eq = \"y = \" + str(round(slope,2)) + \"x + \" + str(round(intercept,2))\n",
    "plt.scatter(north_lat_scatter,north_cloud_scatter)\n",
    "plt.plot(north_lat_scatter,regress_values,\"r-\")\n",
    "plt.xlabel('Latitude')\n",
    "plt.ylabel('Cloudiness')\n",
    "plt.title('Northern Hemisphere - Cloudiness (%) vs. Latitude Linear Regression')\n",
    "plt.savefig('output_data/Northern Hemisphere - Cloudiness (%) vs. Latitude Linear Regression.png')\n",
    "plt.show()\n",
    "print(f'The r-value is {rvalue}')"
   ]
  },
  {
   "cell_type": "markdown",
   "id": "31293beb",
   "metadata": {},
   "source": [
    "#The above plot compares cloudiness to Latitude in the northern hemisphere. \n",
    "#Cloudiness does not appear to have a strong linear relationship to latitude. "
   ]
  },
  {
   "cell_type": "code",
   "execution_count": null,
   "id": "bbef94c3",
   "metadata": {},
   "outputs": [],
   "source": [
    "(slope, intercept, rvalue, pvalue, stderr) = linregress(south_lat_scatter,south_cloud_scatter)\n",
    "regress_values = south_lat_scatter * slope + intercept\n",
    "line_eq = \"y = \" + str(round(slope,2)) + \"x + \" + str(round(intercept,2))\n",
    "plt.scatter(south_lat_scatter,south_cloud_scatter)\n",
    "plt.plot(south_lat_scatter,regress_values,\"r-\")\n",
    "plt.xlabel('Latitude')\n",
    "plt.ylabel('Cloudiness')\n",
    "plt.title('Southern Hemisphere - Cloudiness (%) vs. Latitude Linear Regression')\n",
    "plt.savefig('output_data/Southern Hemisphere - Cloudiness (%) vs. Latitude Linear Regression.png')\n",
    "plt.show()\n",
    "print(f'The r-value is {rvalue}')"
   ]
  },
  {
   "cell_type": "markdown",
   "id": "5393bb1d",
   "metadata": {},
   "source": [
    "#The above plot compares cloudiness to Latitude in the southern hemisphere. \n",
    "#Cloudiness appear to have a weak relationship to latitude, but trends upward toward the equator. "
   ]
  },
  {
   "cell_type": "code",
   "execution_count": null,
   "id": "72eab5fc",
   "metadata": {},
   "outputs": [],
   "source": [
    "(slope, intercept, rvalue, pvalue, stderr) = linregress(north_lat_scatter,north_wind_speed_scatter)\n",
    "regress_values = north_lat_scatter * slope + intercept\n",
    "line_eq = \"y = \" + str(round(slope,2)) + \"x + \" + str(round(intercept,2))\n",
    "plt.scatter(north_lat_scatter,north_wind_speed_scatter)\n",
    "plt.plot(north_lat_scatter,regress_values,\"r-\")\n",
    "plt.xlabel('Latitude')\n",
    "plt.ylabel('Wind Speed')\n",
    "plt.title('Northern Hemisphere - Wind Speed (mph) vs. Latitude Linear Regression')\n",
    "plt.savefig('output_data/Northern Hemisphere - Wind Speed (mph) vs. Latitude Linear Regression.png')\n",
    "plt.show()\n",
    "print(f'The r-value is {rvalue}')"
   ]
  },
  {
   "cell_type": "markdown",
   "id": "6b219036",
   "metadata": {},
   "source": [
    "The above plot compares Wind Speed to Latitude in the Northern hemisphere. \n",
    "Wind Speed appears to have a weak relationship to latitude, but trends upward away the equator. \n",
    "Wind speed appears to trend lower. "
   ]
  },
  {
   "cell_type": "code",
   "execution_count": null,
   "id": "7afbee58",
   "metadata": {},
   "outputs": [],
   "source": [
    "(slope, intercept, rvalue, pvalue, stderr) = linregress(south_lat_scatter,south_wind_speed_scatter)\n",
    "regress_values = south_lat_scatter * slope + intercept\n",
    "line_eq = \"y = \" + str(round(slope,2)) + \"x + \" + str(round(intercept,2))\n",
    "plt.scatter(south_lat_scatter,south_wind_speed_scatter)\n",
    "plt.plot(south_lat_scatter,regress_values,\"r-\")\n",
    "plt.xlabel('Latitude')\n",
    "plt.ylabel('Wind Speed')\n",
    "plt.title('Southern Hemisphere - Wind Speed (mph) vs. Latitude Linear Regression')\n",
    "plt.savefig('output_data/Southern Hemisphere - Wind Speed (mph) vs. Latitude Linear Regression.png')\n",
    "plt.show()\n",
    "print(f'The r-value is {rvalue}')"
   ]
  },
  {
   "cell_type": "markdown",
   "id": "762ef5e8",
   "metadata": {},
   "source": [
    "The above plot compares Wind Speed to Latitude in the Southern hemisphere. \n",
    "Wind Speed appears to have a weak relationship to latitude, but trends downward toward the equator. \n",
    "Unlike the northern hemisphere, the wind speed in the southern hemisphere appears to be much more spread out, not trending high or low. \n",
    "It is worth nothing again that the data set for the southern hemisphere is smaller than that for the north. "
   ]
  },
  {
   "cell_type": "code",
   "execution_count": null,
   "id": "7330f385",
   "metadata": {},
   "outputs": [],
   "source": []
  }
 ],
 "metadata": {
  "kernelspec": {
   "display_name": "Python 3 (ipykernel)",
   "language": "python",
   "name": "python3"
  },
  "language_info": {
   "codemirror_mode": {
    "name": "ipython",
    "version": 3
   },
   "file_extension": ".py",
   "mimetype": "text/x-python",
   "name": "python",
   "nbconvert_exporter": "python",
   "pygments_lexer": "ipython3",
   "version": "3.8.5"
  }
 },
 "nbformat": 4,
 "nbformat_minor": 5
}
